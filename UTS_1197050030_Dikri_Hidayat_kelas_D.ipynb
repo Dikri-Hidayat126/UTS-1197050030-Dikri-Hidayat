{
  "nbformat": 4,
  "nbformat_minor": 0,
  "metadata": {
    "colab": {
      "name": "UTS-1197050030-Dikri Hidayat-kelas D.ipynb",
      "provenance": [],
      "collapsed_sections": []
    },
    "kernelspec": {
      "name": "python3",
      "display_name": "Python 3"
    },
    "language_info": {
      "name": "python"
    }
  },
  "cells": [
    {
      "cell_type": "markdown",
      "source": [
        "# UTS Pembelajaran Teori dan Praktikum Mesin\n",
        "Nama : Dikri Hidayat,\n",
        "NIM  : 1197050030,\n",
        "Kelas Praktikum dan Teori Pembelajaran Mesin D\n"
      ],
      "metadata": {
        "id": "nauUji0I10dD"
      }
    },
    {
      "cell_type": "markdown",
      "source": [
        "# Topik Mini Riset\n",
        "Mini Riset ini mengenai prediksi apakah seseorang akan membeli suatu produk setelah melihat iklan di social media dilihat dari umur dan pendapatan yang dimiliki, dengan menggunakan Algoritma Random Forest"
      ],
      "metadata": {
        "id": "cGLpLvwg2MCy"
      }
    },
    {
      "cell_type": "markdown",
      "source": [
        "#Business Understanding\n",
        "\n",
        "### Latar Belakang  Masalah :-\n",
        "Iklan sekarang tidak hanya kita temukan di pertelevisian namun juga telah banyak ada di media social seperti platform youtube, facebook, instagram dan lain sebagainya. Melihat iklan sudah menjadi hal yang umum bagi semua orang terutama yang memiliki smartphone, namun dengan reaksi yang berbeda beda terhadap iklan tersebut ada yang merasa terganggu atau tertarik dengan produk yang ditawarkan sehingga bergegas untuk membelinya.\n",
        "\n",
        "### Identifikasi masalah :- \n",
        "Berdasarkan latar belakang penelitian, dapat ditarik identifikasi masalah yang ada ;\n",
        "*   User dengan pendapatan berapa yang sering membeli produk yang dilihat diiklan ?\n",
        "*   User dengan umur berapa yang sering membeli produk yang dilihat diiklan ?\n",
        "\n",
        "\n",
        "### Metode/Pendekatan Masalah :- \n",
        "Metode yang dilakukan adalah melakukan data mining pada dataset yang ada lalu menggunakan Algoritma Random Forest untuk memprediksi sebuah hasil yang diinginkan.\n",
        "\n",
        "### Tujuan teknis dan kriteria kesuksesan :-  \n",
        "Diharapkan dari hasil mini riset akan mampu melihat hasil berupa rata rata umur dan pendapatan yang sering membeli produk yang dilihat diiklan\n",
        "\n",
        "### Timeline Mini Riset :- \n",
        "18-22 April 2022\n",
        "\n",
        "\n",
        "\n"
      ],
      "metadata": {
        "id": "OvlLwdA2De5R"
      }
    },
    {
      "cell_type": "markdown",
      "source": [
        "# Data Understanding\n",
        "###Kebutuhan Data\n",
        "Data yang diperlukan adalah dataset yang berisikan reaksi seseorang terhadap sebuah iklan dengan atribut umur dan pendapatan.\n",
        "###Pengambilan Data\n",
        "Untuk datasetnya saya ambil dari situs data mining yaitu Kaggle dengan judul Social Networks Adds adapun untuk alamat linknya : https://www.kaggle.com/code/ranjan770/random-forest-model-on-social-media-ad/data. \n",
        "###Integrasi Data\n",
        "Data yang ada berisikan rekasi dari kumpulan user yang berbeda beda, juga dengan umur dan pendapatan yang berbeda\n",
        "###Telaah Data\n",
        "Dataset ini memiliki 3 buah dimensi dengan berisikan 400 data atau catatan. Data atau catatan yang ada berupa reaksi dari kumpulan user yang memiliki atribute berbeda-beda.  Berikut ini adalah pembahasan mengenai 3 dimensi yang ada pada datasetnya :-\n",
        "1. Age : umur user yang melihat iklan\n",
        "2. Estimated Salery : Pendapatan user yang melihat iklan\n",
        "3. Purchased : Apakah user membeli produk yang diiklankan (1 = iya, 0 = tidak)\n",
        "\n",
        "Pada data age kisaran umurnya yaitu 18 sampai 60 tahun, lalu untuk estimated salary ada di kisaran 15.000 - 150.000 dolar pertahun, dan untuk purchased berisikan angka 1 dan 0, 1 mewakilkan membeli setelah melihat ikaln produk, dan 0 mengabaikan iklan\n",
        "###Analisis Karakteristik Data\n",
        "Data yang digunakan berisikan numerik atau angka sebanyak 400 data.\n",
        "###Validasi Data\n",
        "Menurut publiser datasetnya sendiri dia berkata \"This is a basic dataset for the beginner and can be used for implementing ML algorithms.\""
      ],
      "metadata": {
        "id": "Mb6NHrofHDEz"
      }
    },
    {
      "cell_type": "markdown",
      "source": [
        "#Data Prepation"
      ],
      "metadata": {
        "id": "AYswLL6Se62N"
      }
    },
    {
      "cell_type": "code",
      "source": [
        "#Pertama tama disini membaca library terlebih dahulu\n",
        "\n",
        "import numpy as np\n",
        "import pandas as pd\n",
        "import matplotlib.pyplot as plt\n",
        "import seaborn as sns\n",
        "import warnings\n",
        "warnings.filterwarnings('ignore')\n",
        "\n"
      ],
      "metadata": {
        "id": "O4iOCB0D7Pd2"
      },
      "execution_count": 23,
      "outputs": []
    },
    {
      "cell_type": "code",
      "source": [
        "# Lalu selanjutnya meload data dan menginputkannya ke variabel baru\n",
        "\n",
        "#importing the data\n",
        "url = 'https://raw.githubusercontent.com/JohnMC453/UTS-1197050030-Dikri-Hidayat/main/Social_Network_Ads.csv'\n",
        "df = pd.read_csv(url, sep=',')\n",
        "\n",
        "# Membaca 5 data paling atas\n",
        "df.head()"
      ],
      "metadata": {
        "colab": {
          "base_uri": "https://localhost:8080/",
          "height": 206
        },
        "id": "ih9qPH0t7Z7S",
        "outputId": "91edb703-3d4e-40a1-d70f-6a54f3a0832e"
      },
      "execution_count": 24,
      "outputs": [
        {
          "output_type": "execute_result",
          "data": {
            "text/plain": [
              "   Age  EstimatedSalary  Purchased\n",
              "0   19            19000          0\n",
              "1   35            20000          0\n",
              "2   26            43000          0\n",
              "3   27            57000          0\n",
              "4   19            76000          0"
            ],
            "text/html": [
              "\n",
              "  <div id=\"df-48b85a8a-8aaf-4160-bb5a-7e8a3fd1d457\">\n",
              "    <div class=\"colab-df-container\">\n",
              "      <div>\n",
              "<style scoped>\n",
              "    .dataframe tbody tr th:only-of-type {\n",
              "        vertical-align: middle;\n",
              "    }\n",
              "\n",
              "    .dataframe tbody tr th {\n",
              "        vertical-align: top;\n",
              "    }\n",
              "\n",
              "    .dataframe thead th {\n",
              "        text-align: right;\n",
              "    }\n",
              "</style>\n",
              "<table border=\"1\" class=\"dataframe\">\n",
              "  <thead>\n",
              "    <tr style=\"text-align: right;\">\n",
              "      <th></th>\n",
              "      <th>Age</th>\n",
              "      <th>EstimatedSalary</th>\n",
              "      <th>Purchased</th>\n",
              "    </tr>\n",
              "  </thead>\n",
              "  <tbody>\n",
              "    <tr>\n",
              "      <th>0</th>\n",
              "      <td>19</td>\n",
              "      <td>19000</td>\n",
              "      <td>0</td>\n",
              "    </tr>\n",
              "    <tr>\n",
              "      <th>1</th>\n",
              "      <td>35</td>\n",
              "      <td>20000</td>\n",
              "      <td>0</td>\n",
              "    </tr>\n",
              "    <tr>\n",
              "      <th>2</th>\n",
              "      <td>26</td>\n",
              "      <td>43000</td>\n",
              "      <td>0</td>\n",
              "    </tr>\n",
              "    <tr>\n",
              "      <th>3</th>\n",
              "      <td>27</td>\n",
              "      <td>57000</td>\n",
              "      <td>0</td>\n",
              "    </tr>\n",
              "    <tr>\n",
              "      <th>4</th>\n",
              "      <td>19</td>\n",
              "      <td>76000</td>\n",
              "      <td>0</td>\n",
              "    </tr>\n",
              "  </tbody>\n",
              "</table>\n",
              "</div>\n",
              "      <button class=\"colab-df-convert\" onclick=\"convertToInteractive('df-48b85a8a-8aaf-4160-bb5a-7e8a3fd1d457')\"\n",
              "              title=\"Convert this dataframe to an interactive table.\"\n",
              "              style=\"display:none;\">\n",
              "        \n",
              "  <svg xmlns=\"http://www.w3.org/2000/svg\" height=\"24px\"viewBox=\"0 0 24 24\"\n",
              "       width=\"24px\">\n",
              "    <path d=\"M0 0h24v24H0V0z\" fill=\"none\"/>\n",
              "    <path d=\"M18.56 5.44l.94 2.06.94-2.06 2.06-.94-2.06-.94-.94-2.06-.94 2.06-2.06.94zm-11 1L8.5 8.5l.94-2.06 2.06-.94-2.06-.94L8.5 2.5l-.94 2.06-2.06.94zm10 10l.94 2.06.94-2.06 2.06-.94-2.06-.94-.94-2.06-.94 2.06-2.06.94z\"/><path d=\"M17.41 7.96l-1.37-1.37c-.4-.4-.92-.59-1.43-.59-.52 0-1.04.2-1.43.59L10.3 9.45l-7.72 7.72c-.78.78-.78 2.05 0 2.83L4 21.41c.39.39.9.59 1.41.59.51 0 1.02-.2 1.41-.59l7.78-7.78 2.81-2.81c.8-.78.8-2.07 0-2.86zM5.41 20L4 18.59l7.72-7.72 1.47 1.35L5.41 20z\"/>\n",
              "  </svg>\n",
              "      </button>\n",
              "      \n",
              "  <style>\n",
              "    .colab-df-container {\n",
              "      display:flex;\n",
              "      flex-wrap:wrap;\n",
              "      gap: 12px;\n",
              "    }\n",
              "\n",
              "    .colab-df-convert {\n",
              "      background-color: #E8F0FE;\n",
              "      border: none;\n",
              "      border-radius: 50%;\n",
              "      cursor: pointer;\n",
              "      display: none;\n",
              "      fill: #1967D2;\n",
              "      height: 32px;\n",
              "      padding: 0 0 0 0;\n",
              "      width: 32px;\n",
              "    }\n",
              "\n",
              "    .colab-df-convert:hover {\n",
              "      background-color: #E2EBFA;\n",
              "      box-shadow: 0px 1px 2px rgba(60, 64, 67, 0.3), 0px 1px 3px 1px rgba(60, 64, 67, 0.15);\n",
              "      fill: #174EA6;\n",
              "    }\n",
              "\n",
              "    [theme=dark] .colab-df-convert {\n",
              "      background-color: #3B4455;\n",
              "      fill: #D2E3FC;\n",
              "    }\n",
              "\n",
              "    [theme=dark] .colab-df-convert:hover {\n",
              "      background-color: #434B5C;\n",
              "      box-shadow: 0px 1px 3px 1px rgba(0, 0, 0, 0.15);\n",
              "      filter: drop-shadow(0px 1px 2px rgba(0, 0, 0, 0.3));\n",
              "      fill: #FFFFFF;\n",
              "    }\n",
              "  </style>\n",
              "\n",
              "      <script>\n",
              "        const buttonEl =\n",
              "          document.querySelector('#df-48b85a8a-8aaf-4160-bb5a-7e8a3fd1d457 button.colab-df-convert');\n",
              "        buttonEl.style.display =\n",
              "          google.colab.kernel.accessAllowed ? 'block' : 'none';\n",
              "\n",
              "        async function convertToInteractive(key) {\n",
              "          const element = document.querySelector('#df-48b85a8a-8aaf-4160-bb5a-7e8a3fd1d457');\n",
              "          const dataTable =\n",
              "            await google.colab.kernel.invokeFunction('convertToInteractive',\n",
              "                                                     [key], {});\n",
              "          if (!dataTable) return;\n",
              "\n",
              "          const docLinkHtml = 'Like what you see? Visit the ' +\n",
              "            '<a target=\"_blank\" href=https://colab.research.google.com/notebooks/data_table.ipynb>data table notebook</a>'\n",
              "            + ' to learn more about interactive tables.';\n",
              "          element.innerHTML = '';\n",
              "          dataTable['output_type'] = 'display_data';\n",
              "          await google.colab.output.renderOutput(dataTable, element);\n",
              "          const docLink = document.createElement('div');\n",
              "          docLink.innerHTML = docLinkHtml;\n",
              "          element.appendChild(docLink);\n",
              "        }\n",
              "      </script>\n",
              "    </div>\n",
              "  </div>\n",
              "  "
            ]
          },
          "metadata": {},
          "execution_count": 24
        }
      ]
    },
    {
      "cell_type": "code",
      "source": [
        "# Melihat info data\n",
        "df.info()"
      ],
      "metadata": {
        "colab": {
          "base_uri": "https://localhost:8080/"
        },
        "id": "ZZVpd46oaebA",
        "outputId": "b1747173-9b31-47ba-9387-ae247e1e9cac"
      },
      "execution_count": 25,
      "outputs": [
        {
          "output_type": "stream",
          "name": "stdout",
          "text": [
            "<class 'pandas.core.frame.DataFrame'>\n",
            "RangeIndex: 400 entries, 0 to 399\n",
            "Data columns (total 3 columns):\n",
            " #   Column           Non-Null Count  Dtype\n",
            "---  ------           --------------  -----\n",
            " 0   Age              400 non-null    int64\n",
            " 1   EstimatedSalary  400 non-null    int64\n",
            " 2   Purchased        400 non-null    int64\n",
            "dtypes: int64(3)\n",
            "memory usage: 9.5 KB\n"
          ]
        }
      ]
    },
    {
      "cell_type": "code",
      "source": [
        "# Meliihat besar data\n",
        "df.shape"
      ],
      "metadata": {
        "colab": {
          "base_uri": "https://localhost:8080/"
        },
        "id": "jJL6hgygaepY",
        "outputId": "47486251-d4e5-4f62-ae32-cff760743559"
      },
      "execution_count": 26,
      "outputs": [
        {
          "output_type": "execute_result",
          "data": {
            "text/plain": [
              "(400, 3)"
            ]
          },
          "metadata": {},
          "execution_count": 26
        }
      ]
    },
    {
      "cell_type": "code",
      "source": [
        "# Mengecek apakah salah satu datanya ada yang null atau kosong\n",
        "# Jika false maka data dapat di proses\n",
        "df.isnull().values.any()"
      ],
      "metadata": {
        "colab": {
          "base_uri": "https://localhost:8080/"
        },
        "id": "MGlELSJ5ae1e",
        "outputId": "f129a1b0-282e-46b1-cedc-1841b990954b"
      },
      "execution_count": 27,
      "outputs": [
        {
          "output_type": "execute_result",
          "data": {
            "text/plain": [
              "False"
            ]
          },
          "metadata": {},
          "execution_count": 27
        }
      ]
    },
    {
      "cell_type": "code",
      "source": [
        "# Mendefinisikan dependent dan idenpendent variabel\n",
        "x=df.drop(['Purchased'],axis=1)\n",
        "y=df.pop(\"Purchased\")"
      ],
      "metadata": {
        "id": "9h_O_pYpasL0"
      },
      "execution_count": 28,
      "outputs": []
    },
    {
      "cell_type": "markdown",
      "source": [
        "# Modeling"
      ],
      "metadata": {
        "id": "013aiq7Vz29H"
      }
    },
    {
      "cell_type": "code",
      "source": [
        "# Disini kita membaca library sklearn.model_selection.train_test_split untuk Pisahkan array atau matriks menjadi rangkaian acak dan subset pengujian. \n",
        "from sklearn.model_selection import train_test_split\n",
        "X_train, X_test, train_labels, test_labels = train_test_split(x, y, test_size=.30, random_state=1)\n",
        "\n",
        "# Disini kita akan membuat model Algoritma Random Forestnya\n",
        "from sklearn.ensemble import RandomForestClassifier\n",
        "rfcl = RandomForestClassifier(n_estimators = 301,oob_score=True)   #disini kita menset banyak Tree pada Forestnta sebanyak 300, dan oob score bernilai true maka akan menggunakan sampel out-of-bag untuk memperkirakan skor generalisasi\n",
        "rfcl = rfcl.fit(X_train, train_labels)   #dan disini kita membuild random forest tree dengan variabel x train dan train label\n",
        "# lalu membuatkannya variabel baru agar lebih mudah\n",
        "ytrain_predict = rfcl.predict(X_train)\n",
        "ytest_predict = rfcl.predict(X_test)"
      ],
      "metadata": {
        "id": "ZlamsWUBz2rs"
      },
      "execution_count": 29,
      "outputs": []
    },
    {
      "cell_type": "markdown",
      "source": [
        "# Evaluasi\n",
        "jadi untuk proses selanjutnya adalah melakukan proses lanjutan terhadap ytrain dan ytestnya dengan Confusion Matrix dan ROV Curve test data."
      ],
      "metadata": {
        "id": "6Jvq39UwCmIX"
      }
    },
    {
      "cell_type": "code",
      "source": [
        "# Pertama disini kita proses ytrain_predict yang merupakan variabel untuk melatih/menyesuaikan data agar nanti pada ytest_predik bisa mengeluarkan output yang sesuai\n",
        "# yang bila kita lihat dari test sizenya di ytrain ini dia menggunakan 70% dari total data acak\n",
        "\n",
        "# disini kita menggunakan confusion matrix dengan tujuan mengevaluasi kinerja model klasifikasi melalui perhitungan metrik kinerja seperti akurasi, presisi, ingatan, dan skor F1. \n",
        "# dari hasil yang diberikan kotak berwarna ungu menandakan data yang eror dimana predict value nya dia 0 atau negatif namun ternyata positif ataupun kebalikannya\n",
        "# untuk kotak berwarna hijau dan merah menandakan value predictnya yang tidak eror jika negatif maka negatif atau jika positif maka positif\n",
        "from sklearn.metrics import confusion_matrix,classification_report\n",
        "confusion_matrix(train_labels,ytrain_predict)\n",
        "sns.heatmap(confusion_matrix(train_labels,ytrain_predict),annot=True, fmt='d',cbar=False, cmap='rainbow')\n",
        "plt.xlabel('Label Prediksi')\n",
        "plt.ylabel('Label Aktual')\n",
        "plt.title('Confusion Matrix')\n",
        "plt.show()"
      ],
      "metadata": {
        "colab": {
          "base_uri": "https://localhost:8080/",
          "height": 295
        },
        "id": "9NEsdxjuGENJ",
        "outputId": "b5f75dde-adf3-4f73-b6dc-b992da3c8c7b"
      },
      "execution_count": 30,
      "outputs": [
        {
          "output_type": "display_data",
          "data": {
            "text/plain": [
              "<Figure size 432x288 with 1 Axes>"
            ],
            "image/png": "[encoded data removed]"
          },
          "metadata": {
            "needs_background": "light"
          }
        }
      ]
    },
    {
      "cell_type": "code",
      "source": [
        "# jadi ROC kurva ini jika dalam pengujian medis, tingkat positif sebenarnya adalah tingkat di mana orang diidentifikasi dengan benar untuk dites positif untuk penyakit yang bersangkutan.\n",
        "# Maka Jika didalam kasus ini tingkat positif berarti dimana orang dengan atribut yang ada akan benar benar membeli produk yang diiklankan\n",
        "\n",
        "from sklearn.metrics import roc_curve,roc_auc_score\n",
        "rf_fpr, rf_tpr,_=roc_curve(train_labels,rfcl.predict_proba(X_train)[:,1]) # jadi ini adalah cara memfloting kurva ROC dipython\n",
        "plt.figure(figsize=(12,7))\n",
        "plt.plot(rf_fpr,rf_tpr, marker='x', label='Random Forest')\n",
        "plt.plot(np.arange(0,1.1,0.1),np.arange(0,1.1,0.1))\n",
        "plt.xlabel('False Positive Rate')\n",
        "plt.ylabel('True Positive Rate')\n",
        "plt.title('ROC')\n",
        "plt.show()\n",
        "print('Area Dibawah Curva', roc_auc_score(train_labels,rfcl.predict_proba(X_train)[:,1]))"
      ],
      "metadata": {
        "colab": {
          "base_uri": "https://localhost:8080/",
          "height": 475
        },
        "id": "rSNp4q16T6g3",
        "outputId": "b34329fb-5d44-4d0d-9a82-3f84b1b332fb"
      },
      "execution_count": 31,
      "outputs": [
        {
          "output_type": "display_data",
          "data": {
            "text/plain": [
              "<Figure size 864x504 with 1 Axes>"
            ],
            "image/png": "[encoded data removed]"
          },
          "metadata": {
            "needs_background": "light"
          }
        },
        {
          "output_type": "stream",
          "name": "stdout",
          "text": [
            "Area Dibawah Curva 0.9999715504978662\n"
          ]
        }
      ]
    },
    {
      "cell_type": "code",
      "source": [
        "#Selanjutnya adalah kita proses y_test predict sebagai hasil akhir dari data training pada y_train dengan metode yang sama yaitu confusion matrix dan kurva ROC\n",
        "confusion_matrix(test_labels,ytest_predict)\n",
        "sns.heatmap(confusion_matrix(test_labels,ytest_predict),annot=True, fmt='d',cbar=False, cmap='rainbow')\n",
        "plt.xlabel('Predicted Label')\n",
        "plt.ylabel('Actual Label')\n",
        "plt.title('Confusion Matrix')\n",
        "plt.show()"
      ],
      "metadata": {
        "colab": {
          "base_uri": "https://localhost:8080/",
          "height": 295
        },
        "id": "EUDOXLqgXT6j",
        "outputId": "c670df12-6c70-43be-ee43-43c5e41a00c5"
      },
      "execution_count": 32,
      "outputs": [
        {
          "output_type": "display_data",
          "data": {
            "text/plain": [
              "<Figure size 432x288 with 1 Axes>"
            ],
            "image/png": "[encoded data removed]"
          },
          "metadata": {
            "needs_background": "light"
          }
        }
      ]
    },
    {
      "cell_type": "code",
      "source": [
        "# Melihat laporan yang telah diproses di confusion matrx\n",
        "print(classification_report(test_labels,ytest_predict))"
      ],
      "metadata": {
        "colab": {
          "base_uri": "https://localhost:8080/"
        },
        "id": "IvWqkAFuXT8T",
        "outputId": "d1eec00b-93d1-4bbd-c3c7-e9c759793d01"
      },
      "execution_count": 33,
      "outputs": [
        {
          "output_type": "stream",
          "name": "stdout",
          "text": [
            "              precision    recall  f1-score   support\n",
            "\n",
            "           0       0.92      0.83      0.88        72\n",
            "           1       0.78      0.90      0.83        48\n",
            "\n",
            "    accuracy                           0.86       120\n",
            "   macro avg       0.85      0.86      0.86       120\n",
            "weighted avg       0.87      0.86      0.86       120\n",
            "\n"
          ]
        }
      ]
    },
    {
      "cell_type": "code",
      "source": [
        "# Dan terakhir kurva ROC \n",
        "rf_fpr, rf_tpr,_=roc_curve(test_labels,rfcl.predict_proba(X_test)[:,1])\n",
        "plt.figure(figsize=(12,7))\n",
        "plt.plot(rf_fpr,rf_tpr, marker='x', label='Random Forest')\n",
        "plt.plot(np.arange(0,1.1,0.1),np.arange(0,1.1,0.1))\n",
        "plt.xlabel('False Positive Rate')\n",
        "plt.ylabel('True Positive Rate')\n",
        "plt.title('ROC')\n",
        "plt.show()\n",
        "print('Area dibawah curva : ', roc_auc_score(test_labels,rfcl.predict_proba(X_test)[:,1]))"
      ],
      "metadata": {
        "colab": {
          "base_uri": "https://localhost:8080/",
          "height": 475
        },
        "id": "bCoC5lN-XT-P",
        "outputId": "8402955a-0963-4a48-8d64-afe77eb902c8"
      },
      "execution_count": 34,
      "outputs": [
        {
          "output_type": "display_data",
          "data": {
            "text/plain": [
              "<Figure size 864x504 with 1 Axes>"
            ],
            "image/png": "[encoded data removed]"
          },
          "metadata": {
            "needs_background": "light"
          }
        },
        {
          "output_type": "stream",
          "name": "stdout",
          "text": [
            "Area dibawah curva :  0.9197048611111113\n"
          ]
        }
      ]
    },
    {
      "cell_type": "markdown",
      "source": [
        "Hasil Akhir : Disini selisih nilai AUC data train dan test hanya 8% sehingga model bekerja dengan baik dan data bersifat tidak seimbang, namun dapat memprediksi 0 dan 1"
      ],
      "metadata": {
        "id": "pzUmpPjrYODc"
      }
    }
  ]
}